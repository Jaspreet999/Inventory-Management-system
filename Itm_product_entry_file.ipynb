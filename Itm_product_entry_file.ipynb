{
 "cells": [
  {
   "cell_type": "markdown",
   "id": "de97af7a",
   "metadata": {},
   "source": [
    "## Reading Data from file"
   ]
  },
  {
   "cell_type": "code",
   "execution_count": null,
   "id": "a4b4e023",
   "metadata": {},
   "outputs": [],
   "source": [
    "import json"
   ]
  },
  {
   "cell_type": "code",
   "execution_count": 10,
   "id": "a97130c5",
   "metadata": {},
   "outputs": [],
   "source": [
    "#reading items in record\n",
    "with open(\"itemRecord.json\",'r') as file1:\n",
    "    txt = file1.read()\n",
    "file1.close() \n",
    "\n",
    "record = json.loads(txt)"
   ]
  },
  {
   "cell_type": "markdown",
   "id": "70d00847",
   "metadata": {},
   "source": [
    "## Add item into file"
   ]
  },
  {
   "cell_type": "code",
   "execution_count": null,
   "id": "4eaee425",
   "metadata": {},
   "outputs": [],
   "source": [
    "last_id_product = int(list(record.keys())[len(list(record.keys()))-1])\n",
    "\n",
    "product_name = str(input(\"Enter the Product name: \"))\n",
    "product_discription = str(input(\"Enter the Product Discription: \"))\n",
    "product_price = str(float(input(\"Enter the product Price : \")))\n",
    "product_quantity = str(input(\"Enter the product quantity : \"))\n",
    "print(\"It can be like 25/12/22\")\n",
    "product_expiry_date = input(\"Enter the product Expiry Date :\")\n",
    "last_id_product = last_id_product + 1\n",
    "\n",
    "record[last_id_product]  = {\"NAME\": product_name,\n",
    "                          \"DISCRIPTION\": product_discription ,\n",
    "                          \"UNIT PRICE\": product_price,\n",
    "                          \"QUANTITY IN STOCK\":product_quantity ,\n",
    "                          \"EXPIRY DATE\": product_expiry_date}\n",
    "\n",
    "Print(\"Item added successfully\")"
   ]
  },
  {
   "cell_type": "markdown",
   "id": "1505b54a",
   "metadata": {},
   "source": [
    "## dump data into file"
   ]
  },
  {
   "cell_type": "code",
   "execution_count": null,
   "id": "df89a97a",
   "metadata": {},
   "outputs": [],
   "source": [
    "record = json.dumps(record)\n",
    "\n",
    "#reading items in record\n",
    "with open(\"itemRecord.json\",'w') as file1:\n",
    "    file1.write(record)\n",
    "file1.close()\n",
    "\n"
   ]
  }
 ],
 "metadata": {
  "kernelspec": {
   "display_name": "Python 3",
   "language": "python",
   "name": "python3"
  },
  "language_info": {
   "codemirror_mode": {
    "name": "ipython",
    "version": 3
   },
   "file_extension": ".py",
   "mimetype": "text/x-python",
   "name": "python",
   "nbconvert_exporter": "python",
   "pygments_lexer": "ipython3",
   "version": "3.8.8"
  }
 },
 "nbformat": 4,
 "nbformat_minor": 5
}
