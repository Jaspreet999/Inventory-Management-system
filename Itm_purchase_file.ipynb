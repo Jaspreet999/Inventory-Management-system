{
 "cells": [
  {
   "cell_type": "markdown",
   "id": "5302620f",
   "metadata": {},
   "source": [
    "## Reading data from file"
   ]
  },
  {
   "cell_type": "code",
   "execution_count": 1,
   "id": "6282eb5d",
   "metadata": {},
   "outputs": [],
   "source": [
    "import json\n",
    "import time\n",
    "\n",
    "#reading items in record\n",
    "with open(\"itemRecord.json\",'r') as file1:\n",
    "    txt = file1.read()\n",
    "file1.close() \n",
    "\n",
    "data = json.loads(txt)"
   ]
  },
  {
   "cell_type": "markdown",
   "id": "21044f44",
   "metadata": {},
   "source": [
    "## Reading customer data from file"
   ]
  },
  {
   "cell_type": "code",
   "execution_count": 2,
   "id": "3c923cb1",
   "metadata": {},
   "outputs": [],
   "source": [
    "#reading customer data\n",
    "with open(\"customerRecord.json\",'r') as file2:\n",
    "    txt1 = file2.read()\n",
    "file2.close() \n",
    "\n",
    "customer_data = {}\n",
    "\n",
    "if(not txt1):\n",
    "    temp_id = 2021000\n",
    "    \n",
    "else:\n",
    "    customer_record = json.loads(txt1)\n",
    "    temp_id = int(list(customer_record.keys())[len(list(customer_record.keys()))-1])\n",
    "    "
   ]
  },
  {
   "cell_type": "markdown",
   "id": "35596607",
   "metadata": {},
   "source": [
    "## showing Data to Customer in tabular format"
   ]
  },
  {
   "cell_type": "code",
   "execution_count": 3,
   "id": "b1354661",
   "metadata": {},
   "outputs": [
    {
     "name": "stdout",
     "output_type": "stream",
     "text": [
      "PLEASE GIVE A LOOK AT THE TABLE TO PURCHASE YOUR FAVORITE SOFT DRINK\n",
      "---------------------------------------------------------------------------------------------------------\n",
      "   NAME            DISCRIPTION               UNIT PRICE      QUANTITY IN STOCK      EXPIRY DATE     \n",
      "---------------------------------------------------------------------------------------------------------\n",
      "Unique Id : 1001\n",
      "\n",
      "Coca cola                Coca Cola 2L Bottle                        85.0                 89               25/12/21      \n",
      " -----------------------------------------------------------------------------------------------------------------\n",
      "Unique Id : 1002\n",
      "\n",
      "  Fruity                   Fruity 2L Bottle                         90.0                 97               20/12/21      \n",
      " -----------------------------------------------------------------------------------------------------------------\n",
      "Unique Id : 1003\n",
      "\n",
      "  Slice                    Slice 2L Bottle                          90.0                 94               10/1/22       \n",
      " -----------------------------------------------------------------------------------------------------------------\n",
      "Unique Id : 1004\n",
      "\n",
      "   7up                       Can 24*330ml                           40.0                103               10/1/22       \n",
      " -----------------------------------------------------------------------------------------------------------------\n",
      "Unique Id : 1005\n",
      "\n",
      "   7up          Sugar Free Lemon and Lime Can 24*330ml              40.0                100               10/1/22       \n",
      " -----------------------------------------------------------------------------------------------------------------\n",
      "Unique Id : 1006\n",
      "\n",
      "Alian Milliat         Chardonay Glass Bottle 12*330ml                  90.0                 97               10/2/22       \n",
      " -----------------------------------------------------------------------------------------------------------------\n",
      "Unique Id : 1007\n",
      "\n",
      "Appletiser           Apple Galss Bottle 12*220ml                   100.0                197               24/3/22       \n",
      " -----------------------------------------------------------------------------------------------------------------\n",
      "Unique Id : 1008\n",
      "\n",
      " Belvoir      Organic Ginger Beer Glass Bottle 12*220ml            150.0                196               25/4/22       \n",
      " -----------------------------------------------------------------------------------------------------------------\n",
      "Unique Id : 1009\n",
      "\n",
      " Belvoir           Lemonade Glass Bottle 12*220ml                  140.0                146               24/12/21      \n",
      " -----------------------------------------------------------------------------------------------------------------\n",
      "Unique Id : 1010\n",
      "\n",
      "Coca Cola Cherry          Coca Cola Cherry Can 24*330ml                   50.0                148               24/11/21      \n",
      " -----------------------------------------------------------------------------------------------------------------\n",
      "Unique Id : 1011\n",
      "\n",
      "Diet Coke               Diet Coke Can 24*220ml                      70.0                137               25/1/22       \n",
      " -----------------------------------------------------------------------------------------------------------------\n",
      "Unique Id : 1012\n",
      "\n",
      "Dr Pepper               Dr Pepper Can 24*330ml                     110.0                132               25/1/22       \n",
      " -----------------------------------------------------------------------------------------------------------------\n",
      "Unique Id : 1013\n",
      "\n",
      "Double DutchDouble Cutch Cranberry & Ginger Tonic Water CAn 23*150ml       200.0                200               25/5/22       \n",
      " -----------------------------------------------------------------------------------------------------------------\n",
      "Unique Id : 1014\n",
      "\n",
      "Dr Pepper Zero       Dr Pepper Zero Platic Bottle 12*500               120.0                216               31/11/22      \n",
      " -----------------------------------------------------------------------------------------------------------------\n",
      "Unique Id : 1015\n",
      "\n",
      " Emunity  Emunity Gooseberry and Herb Still Botanical Can 12*250ml       125.0                220               12/2/22       \n",
      " -----------------------------------------------------------------------------------------------------------------\n",
      "Unique Id : 1016\n",
      "\n",
      " Emunity  Emunity Strawberry and Chamomile Still Botanical Can 12*250ml       100.0                170               12/2/22       \n",
      " -----------------------------------------------------------------------------------------------------------------\n",
      "Unique Id : 1017\n",
      "\n",
      "  Fanta               Fanta Orange CAn 24*330ml                                         60.0              22/3/22       \n",
      " -----------------------------------------------------------------------------------------------------------------\n",
      "Unique Id : 1018\n",
      "\n",
      "Fentimans   Fentimans Curiosity Cola Glass Bottle 12*275ml         180.0                120               22/2/22       \n",
      " -----------------------------------------------------------------------------------------------------------------\n",
      "Unique Id : 1019\n",
      "\n",
      "Fever TreeFever Tree Aromatic Tonic Water Glass Bottle 24*200ml       200.0                100               14/1/22       \n",
      " -----------------------------------------------------------------------------------------------------------------\n",
      "Unique Id : 1020\n",
      "\n",
      "Fever Tree       Fever Tree Ale Glass Bottle 24*200ml              200.0                110               14/11/21      \n",
      " -----------------------------------------------------------------------------------------------------------------\n",
      "Unique Id : 1021\n",
      "\n",
      "Fever Tree   Fever Tree Ginger Beer Glass Bottle 24*200ml          200.0                117               14/11/21      \n",
      " -----------------------------------------------------------------------------------------------------------------\n",
      "Unique Id : 1022\n",
      "\n",
      "Fever Tree Fever Tree Madagascan Cola Glass Bottle 24*200ml        200.0                 97               14/11/21      \n",
      " -----------------------------------------------------------------------------------------------------------------\n",
      "Unique Id : 1023\n",
      "\n",
      " Firefly  Firefly Grapefuit Passionfruit Glass Bottle 12*330ml       110.0                104               14/2/22       \n",
      " -----------------------------------------------------------------------------------------------------------------\n",
      "Unique Id : 1024\n",
      "\n",
      " Firefly  Firefly Grapefuit Lime Mint Glass Bottle 12*330ml        110.0                117               14/2/22       \n",
      " -----------------------------------------------------------------------------------------------------------------\n",
      "Unique Id : 1025\n",
      "\n",
      "Merchant's HeartMerchant's Heart Ginger Ale Glass Bottle 24*200ml        120.0                150               14/1/22       \n",
      " -----------------------------------------------------------------------------------------------------------------\n",
      "Unique Id : 1026\n",
      "\n",
      "Merchant's HeartMerchant's Heart Hibiscus Tonic Water Can  24*150ml       120.0                170               14/2/22       \n",
      " -----------------------------------------------------------------------------------------------------------------\n",
      "Unique Id : 1027\n",
      "\n",
      "  Pepsi                Diet Pepsi Can 24*330ml                      60.0                150               13/1/22       \n",
      " -----------------------------------------------------------------------------------------------------------------\n",
      "Unique Id : 1028\n",
      "\n",
      "  Pepsi              Pepsi Glass Bottle 12*330ml                    25.0                150               14/1/22       \n",
      " -----------------------------------------------------------------------------------------------------------------\n",
      "Unique Id : 1029\n",
      "\n",
      " Red Bull               Red Bull Can 24*250ml                      120.0                119               14/12/21      \n",
      " -----------------------------------------------------------------------------------------------------------------\n",
      "Unique Id : 1030\n",
      "\n",
      " Red Bull         Red Bull Sugar Free Cane 24*250ml                100.0                143               14/1/22       \n",
      " -----------------------------------------------------------------------------------------------------------------\n"
     ]
    }
   ],
   "source": [
    "#showing data to user in tabular format using padans dataframes\n",
    "print(\"PLEASE GIVE A LOOK AT THE TABLE TO PURCHASE YOUR FAVORITE SOFT DRINK\")\n",
    "print(\"---------------------------------------------------------------------------------------------------------\")\n",
    "print(\"NAME\".center(10,\" \") + \"DISCRIPTION\".center(30,\" \") + \"UNIT PRICE\".center(20,\" \") + \n",
    "      \"QUANTITY IN STOCK\".center(20,\" \") + \"EXPIRY DATE\".center(20,\" \"))\n",
    "print(\"---------------------------------------------------------------------------------------------------------\")\n",
    "\n",
    "for i in data:\n",
    "    \n",
    "    print(\"Unique Id : \" + i+\"\\n\")\n",
    "    \n",
    "    print(data[i]['NAME'].center(10,\" \") + data[i]['DISCRIPTION'].center(50,\" \") +data[i]['UNIT PRICE'].center(20,\" \") +\n",
    "          data[i]['QUANTITY IN STOCK'].center(20,\" \") +data[i]['EXPIRY DATE'].center(20,\" \"))\n",
    "    \n",
    "    print(\" -----------------------------------------------------------------------------------------------------------------\")\n"
   ]
  },
  {
   "cell_type": "markdown",
   "id": "536148b4",
   "metadata": {},
   "source": [
    "## Showing Offer and take user Name and Tel"
   ]
  },
  {
   "cell_type": "code",
   "execution_count": 4,
   "id": "2791df09",
   "metadata": {},
   "outputs": [
    {
     "name": "stdout",
     "output_type": "stream",
     "text": [
      "we offer 10% off on purchase of more than 500\n",
      "Enter your name: Gurpreet singh\n",
      "Enter your tel : 897654687\n",
      "your id is :  2021004\n"
     ]
    }
   ],
   "source": [
    "print(\"we offer 10% off on purchase of more than 500\")\n",
    "\n",
    "#taking user name and Mobile number  \n",
    "customer_name  = str(input('Enter your name: '))\n",
    "customer_tel = str(input('Enter your tel : '))\n",
    "temp_id +=1\n",
    "print(\"your id is : \" ,temp_id)"
   ]
  },
  {
   "cell_type": "markdown",
   "id": "a204692f",
   "metadata": {},
   "source": [
    "## Function that add user's purchase"
   ]
  },
  {
   "cell_type": "code",
   "execution_count": 5,
   "id": "7c04e609",
   "metadata": {},
   "outputs": [],
   "source": [
    "def update_user_record(total_amount,list_item,quantity):\n",
    "    \n",
    "    j = 0\n",
    "    customer_data[temp_id] = {'NAME':customer_name,'TEL': str(customer_tel),'PURCHASES':[],\n",
    "                              'TOTAL AMOUNT':str(total_amount),'DATE AND TIME': time.ctime() }\n",
    "    \n",
    "    for i in list_item:  \n",
    "        customer_data[temp_id]['PURCHASES'].append(data[i]['DISCRIPTION'] +' = ' + str(quantity[j]) +\"   \")\n",
    "        j +=1"
   ]
  },
  {
   "cell_type": "markdown",
   "id": "644d05ca",
   "metadata": {},
   "source": [
    "## Function that update existing quantity of product in record"
   ]
  },
  {
   "cell_type": "code",
   "execution_count": 6,
   "id": "e384b466",
   "metadata": {},
   "outputs": [],
   "source": [
    "def update_quantity_in_record(ui_product,quantity):\n",
    "    data[ui_product]['QUANTITY IN STOCK'] = str(int(data[ui_product]['QUANTITY IN STOCK']) - quantity)\n",
    "    \n",
    "    js = json.dumps(data)\n",
    "    with open(\"itemRecord.json\",'w') as file1:\n",
    "        file1.write(js)\n",
    "    file1.close() \n",
    "    \n",
    "   \n",
    "    "
   ]
  },
  {
   "cell_type": "markdown",
   "id": "699e408b",
   "metadata": {},
   "source": [
    "## Function that calculate price"
   ]
  },
  {
   "cell_type": "code",
   "execution_count": 7,
   "id": "1eb2ba6e",
   "metadata": {},
   "outputs": [],
   "source": [
    "#calculate price of individual item       \n",
    "def calculate_price(ui_product,quantity):\n",
    "    \n",
    "    return float(data[ui_product]['UNIT PRICE']) * quantity\n"
   ]
  },
  {
   "cell_type": "markdown",
   "id": "8472f06d",
   "metadata": {},
   "source": [
    "## Enter the product ID here to purchase it"
   ]
  },
  {
   "cell_type": "code",
   "execution_count": 8,
   "id": "e66d38e3",
   "metadata": {},
   "outputs": [
    {
     "name": "stdout",
     "output_type": "stream",
     "text": [
      "Enter id of the product here :1010\n",
      "Enter product quantity : 4\n",
      "if you want to purchase again enter yes\n",
      "Enter any yes/no: no\n"
     ]
    }
   ],
   "source": [
    "list_items = []\n",
    "total_amounts = 0.0\n",
    "purchase_again = 'yes'\n",
    "product_quantities =[]\n",
    "\n",
    "\n",
    "while(purchase_again == 'yes'):\n",
    "    \n",
    "    ui_product = input(\"Enter id of the product here :\")\n",
    "    product_quantity = int( input(\"Enter product quantity : \"))\n",
    "    product_quantities.append(product_quantity)\n",
    "    \n",
    "    try:\n",
    "        if product_quantity<=int(data[ui_product][\"QUANTITY IN STOCK\"]):\n",
    "            list_items.append(ui_product)\n",
    "            total_amounts =  total_amounts + calculate_price(ui_product,product_quantity)\n",
    "            update_quantity_in_record(ui_product,product_quantity)\n",
    "        \n",
    "    \n",
    "        else:\n",
    "            print(\"We have only \"+ data[ui_product]['QUANTITY IN STOCK']+\" !\")\n",
    "            \n",
    "    except:  \n",
    "        print(\"Key Error\")\n",
    "    \n",
    "    print(\"if you want to purchase again enter yes\")\n",
    "    purchase_again = str(input(\"Enter any yes/no: \"))\n",
    "    \n"
   ]
  },
  {
   "cell_type": "markdown",
   "id": "67bd91e3",
   "metadata": {},
   "source": [
    "## Showing bill to you"
   ]
  },
  {
   "cell_type": "code",
   "execution_count": 13,
   "id": "84da9978",
   "metadata": {},
   "outputs": [
    {
     "name": "stdout",
     "output_type": "stream",
     "text": [
      "Gurpreet singh bill is here\n",
      "\n",
      "your id : 2021004\n",
      ">>>>>>>>>>>>>>>>>>>>>>>>>>>>>>>>>\n",
      "Your purchases :\n",
      "Coca Cola Cherry Can 24*330ml = 4   \n",
      ">>>>>>>>>>>>>>>>>>>>>>>>>>>>>>>>>>>>>>>>>>\n",
      "you have to pay : 200.0\n",
      "Date and time :Sun Sep  5 18:47:59 2021\n"
     ]
    }
   ],
   "source": [
    "if(total_amounts!=0):\n",
    "    \n",
    "    off_total_amount = 0\n",
    "    \n",
    "    #giving 10 percent off on amount greater than 500rs\n",
    "    if(total_amounts>500):\n",
    "        off_total_amount = total_amounts - (total_amounts*10)/100\n",
    "    else:\n",
    "        off_total_amount = total_amounts\n",
    "        \n",
    "    update_user_record(off_total_amount,list_items,product_quantities)\n",
    "    \n",
    "    #showing bill to consumer\n",
    "    print(customer_data[temp_id]['NAME'] +\" bill is here\\n\")\n",
    "    print(\"your id :\" ,temp_id) \n",
    "    print(\">>>>>>>>>>>>>>>>>>>>>>>>>>>>>>>>>\")\n",
    "    \n",
    "    #print(\"Name : \"+ customer_record[temp_id]['NAME'])   \n",
    "    print(\"Your purchases :\")\n",
    "    \n",
    "    for i in range(len(customer_data[temp_id]['PURCHASES'])):\n",
    "        print(customer_data[temp_id]['PURCHASES'][i])\n",
    "        \n",
    "    print(\">>>>>>>>>>>>>>>>>>>>>>>>>>>>>>>>>>>>>>>>>>\") \n",
    "    \n",
    "    if total_amounts >=500:\n",
    "        print(\"Total Amount is :\",total_amounts)\n",
    "        print(\"Amount after 10% off is :\")\n",
    "        \n",
    "    print(\"you have to pay :\" , customer_data[temp_id]['TOTAL AMOUNT']) \n",
    "    print(\"Date and time :\" +customer_data[temp_id]['DATE AND TIME'])\n"
   ]
  },
  {
   "cell_type": "markdown",
   "id": "fa44629f",
   "metadata": {},
   "source": [
    "## Showing customer data into json file for future references"
   ]
  },
  {
   "cell_type": "code",
   "execution_count": 14,
   "id": "dd30b830",
   "metadata": {},
   "outputs": [],
   "source": [
    "#dumped data to store it into file\n",
    "data_store= json.dumps(customer_data)\n",
    "\n",
    "# write dumped data into the  file in type of string\n",
    "with open(\"customerRecord.json\",'a') as file:\n",
    "    file.write(data_store)\n",
    "file.close()"
   ]
  },
  {
   "cell_type": "code",
   "execution_count": 15,
   "id": "a6bc6a77",
   "metadata": {},
   "outputs": [
    {
     "data": {
      "text/plain": [
       "'{\"2021004\": {\"NAME\": \"Gurpreet singh\", \"TEL\": \"897654687\", \"PURCHASES\": [\"Coca Cola Cherry Can 24*330ml = 4   \"], \"TOTAL AMOUNT\": \"200.0\", \"DATE AND TIME\": \"Sun Sep  5 18:47:59 2021\"}}'"
      ]
     },
     "execution_count": 15,
     "metadata": {},
     "output_type": "execute_result"
    }
   ],
   "source": [
    "data_store"
   ]
  },
  {
   "cell_type": "code",
   "execution_count": null,
   "id": "0574f30a",
   "metadata": {},
   "outputs": [],
   "source": []
  }
 ],
 "metadata": {
  "kernelspec": {
   "display_name": "Python 3",
   "language": "python",
   "name": "python3"
  },
  "language_info": {
   "codemirror_mode": {
    "name": "ipython",
    "version": 3
   },
   "file_extension": ".py",
   "mimetype": "text/x-python",
   "name": "python",
   "nbconvert_exporter": "python",
   "pygments_lexer": "ipython3",
   "version": "3.8.8"
  }
 },
 "nbformat": 4,
 "nbformat_minor": 5
}
